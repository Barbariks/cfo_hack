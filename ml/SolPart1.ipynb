{
 "cells": [
  {
   "cell_type": "code",
   "execution_count": 42,
   "id": "initial_id",
   "metadata": {
    "collapsed": true,
    "ExecuteTime": {
     "end_time": "2024-04-28T00:49:28.021198Z",
     "start_time": "2024-04-28T00:49:28.018033Z"
    }
   },
   "outputs": [],
   "source": [
    "import torch\n",
    "import torch.nn as nn\n",
    "from transformers import BertModel, BertTokenizer\n",
    "import pickle\n",
    "import pandas as pd\n",
    "import re\n",
    "import nltk\n",
    "from nltk.corpus import stopwords\n",
    "from sklearn.feature_extraction.text import TfidfVectorizer\n",
    "from sklearn.metrics.pairwise import cosine_similarity"
   ]
  },
  {
   "cell_type": "code",
   "outputs": [],
   "source": [
    "# Конфигурация устройства\n",
    "device = torch.device(\"cuda\" if torch.cuda.is_available() else \"cpu\")"
   ],
   "metadata": {
    "collapsed": false,
    "ExecuteTime": {
     "end_time": "2024-04-28T00:49:28.032597Z",
     "start_time": "2024-04-28T00:49:28.030193Z"
    }
   },
   "id": "b5005c388b56105b",
   "execution_count": 43
  },
  {
   "cell_type": "code",
   "outputs": [],
   "source": [
    "# Определение класса модели\n",
    "class TextClassifier(nn.Module):\n",
    "    def __init__(self, n_classes):\n",
    "        super(TextClassifier, self).__init__()\n",
    "        self.bert = BertModel.from_pretrained('DeepPavlov/rubert-base-cased', return_dict=False)\n",
    "        self.dropout = nn.Dropout(p=0.1)\n",
    "        self.classifier = nn.Linear(self.bert.config.hidden_size, n_classes)\n",
    "\n",
    "    def forward(self, input_ids, attention_mask):\n",
    "        outputs = self.bert(input_ids, attention_mask=attention_mask)\n",
    "        output = self.dropout(outputs[1])  # берем pooled output\n",
    "        return self.classifier(output)"
   ],
   "metadata": {
    "collapsed": false,
    "ExecuteTime": {
     "end_time": "2024-04-28T00:49:28.036420Z",
     "start_time": "2024-04-28T00:49:28.033595Z"
    }
   },
   "id": "d94d7415fc26ea5c",
   "execution_count": 44
  },
  {
   "cell_type": "code",
   "outputs": [],
   "source": [
    "# Загрузка модели и компонентов\n",
    "n_classes = 12\n",
    "model = TextClassifier(n_classes)\n",
    "model.load_state_dict(torch.load('model_CFO_sd.pth', map_location=device))\n",
    "model.to(device)\n",
    "model.eval()"
   ],
   "metadata": {
    "collapsed": false
   },
   "id": "7b38ef696c1c0f3c",
   "execution_count": null
  },
  {
   "cell_type": "code",
   "outputs": [],
   "source": [
    "with open('label_encoder.pkl', 'rb') as file:\n",
    "    le = pickle.load(file)\n"
   ],
   "metadata": {
    "collapsed": false,
    "ExecuteTime": {
     "end_time": "2024-04-28T00:49:30.100468Z",
     "start_time": "2024-04-28T00:49:30.097824Z"
    }
   },
   "id": "560dbb9a778670a9",
   "execution_count": 46
  },
  {
   "cell_type": "code",
   "outputs": [
    {
     "name": "stderr",
     "output_type": "stream",
     "text": [
      "[nltk_data] Downloading package stopwords to\n",
      "[nltk_data]     C:\\Users\\Geo\\AppData\\Roaming\\nltk_data...\n",
      "[nltk_data]   Package stopwords is already up-to-date!\n"
     ]
    }
   ],
   "source": [
    "tokenizer = BertTokenizer.from_pretrained('DeepPavlov/rubert-base-cased')\n",
    "\n",
    "# Загрузка данных и предварительная обработка\n",
    "nltk.download('stopwords')\n",
    "stop_words = set(stopwords.words('russian'))"
   ],
   "metadata": {
    "collapsed": false,
    "ExecuteTime": {
     "end_time": "2024-04-28T00:49:30.432342Z",
     "start_time": "2024-04-28T00:49:30.100993Z"
    }
   },
   "id": "640b42fa20669d39",
   "execution_count": 47
  },
  {
   "cell_type": "code",
   "outputs": [],
   "source": [
    "def clean_text(text):\n",
    "    text = re.sub(r'[^\\w\\s]', ' ', text)\n",
    "    text = re.sub(r'\\s+', ' ', text).lower()\n",
    "    words = text.split()\n",
    "    words = [word for word in words if word not in stop_words]\n",
    "    return ' '.join(words)"
   ],
   "metadata": {
    "collapsed": false,
    "ExecuteTime": {
     "end_time": "2024-04-28T00:49:30.435645Z",
     "start_time": "2024-04-28T00:49:30.432342Z"
    }
   },
   "id": "c5af6857c92ad84c",
   "execution_count": 48
  },
  {
   "cell_type": "code",
   "outputs": [
    {
     "data": {
      "text/plain": "                                             Описание  \\\n0   приглашаем удаленный формат работы программист...   \n1   предстоит заниматься работа scrum agile разраб...   \n2   ооо рт информ аккредитованная it компания инфр...   \n3   первый бит это команда программистов аналитико...   \n4   перспектива карьерного роста обязанности монит...   \n5   компания zelax ищет молодых перспективных спец...   \n6   wildberries крупнейший маркетплейс россии wild...   \n7   присоединяйтесь команде сибур диджитал создаем...   \n8   обязанности разработка внедрение поддержка тер...   \n9   lamoda group это крупнейшая россии снг онлайн ...   \n10  привет аккредитованная it компания maxim techn...   \n11  simetra уверены команда это основа успеха любо...   \n12  рассвет 13 команда экспертов разработчиков обл...   \n13  центре технологии искусственного интеллекта мг...   \n14  описание расширяем команды ищем разработчиков ...   \n15  domclick ru единственный россии продукт обеспе...   \n16  ищем опытного java разработчика готового влить...   \n17  мтс digital единый центр технологического разв...   \n18  предстоит участвовать разработке внедрении нов...   \n19  предлагаем интересную работу имеем партнеров р...   \n20  autopiter ru федеральный интернет магазин прод...   \n21  ит фирма входящая наш холдинг занимается разра...   \n22  продукт smile no code решение предоставляющее ...   \n23  обязанности разработка веб приложений фреймвор...   \n24  расширяем команду разработке поэтому открываем...   \n25  команда разработчиков центрального нии эпидеми...   \n26  привет beget 15 лет предоставляем услуги хости...   \n27  работа команде профессионалами своего дела кот...   \n28  предстоит начальная настройка поддержка развит...   \n29  сегодня билайн компания изменений чутко реагир...   \n30  привет компания пик крупнейший застройщик росс...   \n31  центр развития департамента информационных тех...   \n32  инновационный стартап нацеленный создание рево...   \n33  команда production it растет развивается поиск...   \n34  обязанности разработка нового функционала бэкэ...   \n35  вакансия переездом республику татарстан обязан...   \n36  привет онлайн школа тетрика являемся одной кру...   \n37  привет будущий коллега ригинтел аккредитованна...   \n38  компания gri ищем нашу команду талантливых про...   \n39  кого ищем разыскиваем талантливых ios разработ...   \n40  бкс финтех ит компания входящая бкс мир инвест...   \n41  создаем приложения мобильных устройств ними ра...   \n42  предлагаем оформление тк первого рабочего дня ...   \n43  ювенко является одним крупнейших российских пр...   \n44  кого ищем android разработчика опытом 2 х лет ...   \n45  продуктовая команда которая девять лет делает ...   \n46  команда ubic tech разработчик передовых инфрас...   \n47  компания nodasoft разработчик онлайн сервисов ...   \n48  компания burger king приглашает команду специа...   \n49  основные задачи функциональное тестирование пр...   \n50  основные задачи функциональное тестирование пр...   \n51  задачи программирование поведения различных иг...   \n52  обязанности разработка игровых командных vr иг...   \n53  основная задача проектирование реализация сете...   \n\n                                           Технологии  \\\n0                           1c soap http xml json скд   \n1                           1c soap http xml json скд   \n2                           1c soap http xml json скд   \n3                           1c soap http xml json скд   \n4               python linux tcp ip fhrp stp bgp ospf   \n5               python linux tcp ip fhrp stp bgp ospf   \n6               python linux tcp ip fhrp stp bgp ospf   \n7               python linux tcp ip fhrp stp bgp ospf   \n8               python linux tcp ip fhrp stp bgp ospf   \n9   python pycharm gitlab pytest sql mysql postgre...   \n10  python pycharm gitlab pytest sql mysql postgre...   \n11  python pycharm gitlab pytest sql mysql postgre...   \n12  python pycharm gitlab pytest sql mysql postgre...   \n13  python pycharm gitlab pytest sql mysql postgre...   \n14  java sql nosql spring ethernet linux git libgd...   \n15  java sql nosql spring ethernet linux git libgd...   \n16  java sql nosql spring ethernet linux git libgd...   \n17  java sql nosql spring ethernet linux git libgd...   \n18   c asp net net sql nosql javascript soap grpc git   \n19   c asp net net sql nosql javascript soap grpc git   \n20   c asp net net sql nosql javascript soap grpc git   \n21   c asp net net sql nosql javascript soap grpc git   \n22  vs code vitest jest vite webpack pinia element...   \n23  vs code vitest jest vite webpack pinia element...   \n24  vs code vitest jest vite webpack pinia element...   \n25  vs code vitest jest vite webpack pinia element...   \n26  vs code vitest jest vite webpack pinia element...   \n27  linux python docker gitlab molecule karate ans...   \n28  linux python docker gitlab molecule karate ans...   \n29  linux python docker gitlab molecule karate ans...   \n30  linux python docker gitlab molecule karate ans...   \n31  linux python docker gitlab molecule karate ans...   \n32  python django flask fastapi html css pycharm d...   \n33  python django flask fastapi html css pycharm d...   \n34  python django flask fastapi html css pycharm d...   \n35  python django flask fastapi html css pycharm d...   \n36  python django flask fastapi html css pycharm d...   \n37  python django flask fastapi html css pycharm d...   \n38  swift objective c swift playgrounds xcode git ...   \n39  swift objective c swift playgrounds xcode git ...   \n40  swift objective c swift playgrounds xcode git ...   \n41  swift objective c swift playgrounds xcode git ...   \n42  swift objective c swift playgrounds xcode git ...   \n43  java kotlin android sdk junit swift objective ...   \n44  java kotlin android sdk junit swift objective ...   \n45  java kotlin android sdk junit swift objective ...   \n46  java kotlin android sdk junit swift objective ...   \n47  javascript html css devtools javascript html c...   \n48  javascript html css devtools javascript html c...   \n49  javascript html css devtools javascript html c...   \n50  javascript html css devtools javascript html c...   \n51                               unreal engine gitlab   \n52                               unreal engine gitlab   \n53                               unreal engine gitlab   \n\n                                            Профессия  \\\n0   программист 1с 1с разработчик профессия стыке ...   \n1   программист 1с 1с разработчик профессия стыке ...   \n2   программист 1с 1с разработчик профессия стыке ...   \n3   программист 1с 1с разработчик профессия стыке ...   \n4   инженер сетевым коммуникациям востребован комп...   \n5   инженер сетевым коммуникациям востребован комп...   \n6   инженер сетевым коммуникациям востребован комп...   \n7   инженер сетевым коммуникациям востребован комп...   \n8   инженер сетевым коммуникациям востребован комп...   \n9   python пишут сайты приложения игры чат боты на...   \n10  python пишут сайты приложения игры чат боты на...   \n11  python пишут сайты приложения игры чат боты на...   \n12  python пишут сайты приложения игры чат боты на...   \n13  python пишут сайты приложения игры чат боты на...   \n14  пройдите обучение инженера программиста java п...   \n15  пройдите обучение инженера программиста java п...   \n16  пройдите обучение инженера программиста java п...   \n17  пройдите обучение инженера программиста java п...   \n18  c c sharp объектно ориентированный язык програ...   \n19  c c sharp объектно ориентированный язык програ...   \n20  c c sharp объектно ориентированный язык програ...   \n21  c c sharp объектно ориентированный язык програ...   \n22  фронтендеры работают внешним видом сайтов серв...   \n23  фронтендеры работают внешним видом сайтов серв...   \n24  фронтендеры работают внешним видом сайтов серв...   \n25  фронтендеры работают внешним видом сайтов серв...   \n26  фронтендеры работают внешним видом сайтов серв...   \n27  devops инженер занимается автоматизацией проце...   \n28  devops инженер занимается автоматизацией проце...   \n29  devops инженер занимается автоматизацией проце...   \n30  devops инженер занимается автоматизацией проце...   \n31  devops инженер занимается автоматизацией проце...   \n32  научим разрабатывать серверную часть веб проек...   \n33  научим разрабатывать серверную часть веб проек...   \n34  научим разрабатывать серверную часть веб проек...   \n35  научим разрабатывать серверную часть веб проек...   \n36  научим разрабатывать серверную часть веб проек...   \n37  научим разрабатывать серверную часть веб проек...   \n38  ios разработчик создает приложения айфонов айп...   \n39  ios разработчик создает приложения айфонов айп...   \n40  ios разработчик создает приложения айфонов айп...   \n41  ios разработчик создает приложения айфонов айп...   \n42  ios разработчик создает приложения айфонов айп...   \n43  разработчики android занимаются созданием дора...   \n44  разработчики android занимаются созданием дора...   \n45  разработчики android занимаются созданием дора...   \n46  разработчики android занимаются созданием дора...   \n47  qa тестировщик это специалист который создаёт ...   \n48  qa тестировщик это специалист который создаёт ...   \n49  qa тестировщик это специалист который создаёт ...   \n50  qa тестировщик это специалист который создаёт ...   \n51  практике научитесь создавать игровые уровни ан...   \n52  практике научитесь создавать игровые уровни ан...   \n53  практике научитесь создавать игровые уровни ан...   \n\n                                    Ссылка на продукт  \n0   https://gb.ru/geek_university/developer/progra...  \n1   https://gb.ru/geek_university/developer/progra...  \n2   https://gb.ru/geek_university/developer/progra...  \n3   https://gb.ru/geek_university/developer/progra...  \n4   https://gb.ru/geek_university/developer/archit...  \n5   https://gb.ru/geek_university/developer/archit...  \n6   https://gb.ru/geek_university/developer/archit...  \n7   https://gb.ru/geek_university/developer/archit...  \n8   https://gb.ru/geek_university/developer/archit...  \n9   https://gb.ru/geek_university/developer/progra...  \n10  https://gb.ru/geek_university/developer/progra...  \n11  https://gb.ru/geek_university/developer/progra...  \n12  https://gb.ru/geek_university/developer/progra...  \n13  https://gb.ru/geek_university/developer/progra...  \n14  https://gb.ru/geek_university/developer/progra...  \n15  https://gb.ru/geek_university/developer/progra...  \n16  https://gb.ru/geek_university/developer/progra...  \n17  https://gb.ru/geek_university/developer/progra...  \n18  https://gb.ru/geek_university/developer/progra...  \n19  https://gb.ru/geek_university/developer/progra...  \n20  https://gb.ru/geek_university/developer/progra...  \n21  https://gb.ru/geek_university/developer/progra...  \n22  https://gb.ru/geek_university/developer/progra...  \n23  https://gb.ru/geek_university/developer/progra...  \n24  https://gb.ru/geek_university/developer/progra...  \n25  https://gb.ru/geek_university/developer/progra...  \n26  https://gb.ru/geek_university/developer/progra...  \n27  https://gb.ru/geek_university/developer/archit...  \n28  https://gb.ru/geek_university/developer/archit...  \n29  https://gb.ru/geek_university/developer/archit...  \n30  https://gb.ru/geek_university/developer/archit...  \n31  https://gb.ru/geek_university/developer/archit...  \n32  https://gb.ru/geek_university/developer/progra...  \n33  https://gb.ru/geek_university/developer/progra...  \n34  https://gb.ru/geek_university/developer/progra...  \n35  https://gb.ru/geek_university/developer/progra...  \n36  https://gb.ru/geek_university/developer/progra...  \n37  https://gb.ru/geek_university/developer/progra...  \n38  https://gb.ru/geek_university/developer/progra...  \n39  https://gb.ru/geek_university/developer/progra...  \n40  https://gb.ru/geek_university/developer/progra...  \n41  https://gb.ru/geek_university/developer/progra...  \n42  https://gb.ru/geek_university/developer/progra...  \n43  https://gb.ru/geek_university/developer/progra...  \n44  https://gb.ru/geek_university/developer/progra...  \n45  https://gb.ru/geek_university/developer/progra...  \n46  https://gb.ru/geek_university/developer/progra...  \n47     https://gb.ru/geek_university/it-specialist/qa  \n48     https://gb.ru/geek_university/it-specialist/qa  \n49     https://gb.ru/geek_university/it-specialist/qa  \n50     https://gb.ru/geek_university/it-specialist/qa  \n51  https://gb.ru/geek_university/developer/progra...  \n52  https://gb.ru/geek_university/developer/progra...  \n53  https://gb.ru/geek_university/developer/progra...  ",
      "text/html": "<div>\n<style scoped>\n    .dataframe tbody tr th:only-of-type {\n        vertical-align: middle;\n    }\n\n    .dataframe tbody tr th {\n        vertical-align: top;\n    }\n\n    .dataframe thead th {\n        text-align: right;\n    }\n</style>\n<table border=\"1\" class=\"dataframe\">\n  <thead>\n    <tr style=\"text-align: right;\">\n      <th></th>\n      <th>Описание</th>\n      <th>Технологии</th>\n      <th>Профессия</th>\n      <th>Ссылка на продукт</th>\n    </tr>\n  </thead>\n  <tbody>\n    <tr>\n      <th>0</th>\n      <td>приглашаем удаленный формат работы программист...</td>\n      <td>1c soap http xml json скд</td>\n      <td>программист 1с 1с разработчик профессия стыке ...</td>\n      <td>https://gb.ru/geek_university/developer/progra...</td>\n    </tr>\n    <tr>\n      <th>1</th>\n      <td>предстоит заниматься работа scrum agile разраб...</td>\n      <td>1c soap http xml json скд</td>\n      <td>программист 1с 1с разработчик профессия стыке ...</td>\n      <td>https://gb.ru/geek_university/developer/progra...</td>\n    </tr>\n    <tr>\n      <th>2</th>\n      <td>ооо рт информ аккредитованная it компания инфр...</td>\n      <td>1c soap http xml json скд</td>\n      <td>программист 1с 1с разработчик профессия стыке ...</td>\n      <td>https://gb.ru/geek_university/developer/progra...</td>\n    </tr>\n    <tr>\n      <th>3</th>\n      <td>первый бит это команда программистов аналитико...</td>\n      <td>1c soap http xml json скд</td>\n      <td>программист 1с 1с разработчик профессия стыке ...</td>\n      <td>https://gb.ru/geek_university/developer/progra...</td>\n    </tr>\n    <tr>\n      <th>4</th>\n      <td>перспектива карьерного роста обязанности монит...</td>\n      <td>python linux tcp ip fhrp stp bgp ospf</td>\n      <td>инженер сетевым коммуникациям востребован комп...</td>\n      <td>https://gb.ru/geek_university/developer/archit...</td>\n    </tr>\n    <tr>\n      <th>5</th>\n      <td>компания zelax ищет молодых перспективных спец...</td>\n      <td>python linux tcp ip fhrp stp bgp ospf</td>\n      <td>инженер сетевым коммуникациям востребован комп...</td>\n      <td>https://gb.ru/geek_university/developer/archit...</td>\n    </tr>\n    <tr>\n      <th>6</th>\n      <td>wildberries крупнейший маркетплейс россии wild...</td>\n      <td>python linux tcp ip fhrp stp bgp ospf</td>\n      <td>инженер сетевым коммуникациям востребован комп...</td>\n      <td>https://gb.ru/geek_university/developer/archit...</td>\n    </tr>\n    <tr>\n      <th>7</th>\n      <td>присоединяйтесь команде сибур диджитал создаем...</td>\n      <td>python linux tcp ip fhrp stp bgp ospf</td>\n      <td>инженер сетевым коммуникациям востребован комп...</td>\n      <td>https://gb.ru/geek_university/developer/archit...</td>\n    </tr>\n    <tr>\n      <th>8</th>\n      <td>обязанности разработка внедрение поддержка тер...</td>\n      <td>python linux tcp ip fhrp stp bgp ospf</td>\n      <td>инженер сетевым коммуникациям востребован комп...</td>\n      <td>https://gb.ru/geek_university/developer/archit...</td>\n    </tr>\n    <tr>\n      <th>9</th>\n      <td>lamoda group это крупнейшая россии снг онлайн ...</td>\n      <td>python pycharm gitlab pytest sql mysql postgre...</td>\n      <td>python пишут сайты приложения игры чат боты на...</td>\n      <td>https://gb.ru/geek_university/developer/progra...</td>\n    </tr>\n    <tr>\n      <th>10</th>\n      <td>привет аккредитованная it компания maxim techn...</td>\n      <td>python pycharm gitlab pytest sql mysql postgre...</td>\n      <td>python пишут сайты приложения игры чат боты на...</td>\n      <td>https://gb.ru/geek_university/developer/progra...</td>\n    </tr>\n    <tr>\n      <th>11</th>\n      <td>simetra уверены команда это основа успеха любо...</td>\n      <td>python pycharm gitlab pytest sql mysql postgre...</td>\n      <td>python пишут сайты приложения игры чат боты на...</td>\n      <td>https://gb.ru/geek_university/developer/progra...</td>\n    </tr>\n    <tr>\n      <th>12</th>\n      <td>рассвет 13 команда экспертов разработчиков обл...</td>\n      <td>python pycharm gitlab pytest sql mysql postgre...</td>\n      <td>python пишут сайты приложения игры чат боты на...</td>\n      <td>https://gb.ru/geek_university/developer/progra...</td>\n    </tr>\n    <tr>\n      <th>13</th>\n      <td>центре технологии искусственного интеллекта мг...</td>\n      <td>python pycharm gitlab pytest sql mysql postgre...</td>\n      <td>python пишут сайты приложения игры чат боты на...</td>\n      <td>https://gb.ru/geek_university/developer/progra...</td>\n    </tr>\n    <tr>\n      <th>14</th>\n      <td>описание расширяем команды ищем разработчиков ...</td>\n      <td>java sql nosql spring ethernet linux git libgd...</td>\n      <td>пройдите обучение инженера программиста java п...</td>\n      <td>https://gb.ru/geek_university/developer/progra...</td>\n    </tr>\n    <tr>\n      <th>15</th>\n      <td>domclick ru единственный россии продукт обеспе...</td>\n      <td>java sql nosql spring ethernet linux git libgd...</td>\n      <td>пройдите обучение инженера программиста java п...</td>\n      <td>https://gb.ru/geek_university/developer/progra...</td>\n    </tr>\n    <tr>\n      <th>16</th>\n      <td>ищем опытного java разработчика готового влить...</td>\n      <td>java sql nosql spring ethernet linux git libgd...</td>\n      <td>пройдите обучение инженера программиста java п...</td>\n      <td>https://gb.ru/geek_university/developer/progra...</td>\n    </tr>\n    <tr>\n      <th>17</th>\n      <td>мтс digital единый центр технологического разв...</td>\n      <td>java sql nosql spring ethernet linux git libgd...</td>\n      <td>пройдите обучение инженера программиста java п...</td>\n      <td>https://gb.ru/geek_university/developer/progra...</td>\n    </tr>\n    <tr>\n      <th>18</th>\n      <td>предстоит участвовать разработке внедрении нов...</td>\n      <td>c asp net net sql nosql javascript soap grpc git</td>\n      <td>c c sharp объектно ориентированный язык програ...</td>\n      <td>https://gb.ru/geek_university/developer/progra...</td>\n    </tr>\n    <tr>\n      <th>19</th>\n      <td>предлагаем интересную работу имеем партнеров р...</td>\n      <td>c asp net net sql nosql javascript soap grpc git</td>\n      <td>c c sharp объектно ориентированный язык програ...</td>\n      <td>https://gb.ru/geek_university/developer/progra...</td>\n    </tr>\n    <tr>\n      <th>20</th>\n      <td>autopiter ru федеральный интернет магазин прод...</td>\n      <td>c asp net net sql nosql javascript soap grpc git</td>\n      <td>c c sharp объектно ориентированный язык програ...</td>\n      <td>https://gb.ru/geek_university/developer/progra...</td>\n    </tr>\n    <tr>\n      <th>21</th>\n      <td>ит фирма входящая наш холдинг занимается разра...</td>\n      <td>c asp net net sql nosql javascript soap grpc git</td>\n      <td>c c sharp объектно ориентированный язык програ...</td>\n      <td>https://gb.ru/geek_university/developer/progra...</td>\n    </tr>\n    <tr>\n      <th>22</th>\n      <td>продукт smile no code решение предоставляющее ...</td>\n      <td>vs code vitest jest vite webpack pinia element...</td>\n      <td>фронтендеры работают внешним видом сайтов серв...</td>\n      <td>https://gb.ru/geek_university/developer/progra...</td>\n    </tr>\n    <tr>\n      <th>23</th>\n      <td>обязанности разработка веб приложений фреймвор...</td>\n      <td>vs code vitest jest vite webpack pinia element...</td>\n      <td>фронтендеры работают внешним видом сайтов серв...</td>\n      <td>https://gb.ru/geek_university/developer/progra...</td>\n    </tr>\n    <tr>\n      <th>24</th>\n      <td>расширяем команду разработке поэтому открываем...</td>\n      <td>vs code vitest jest vite webpack pinia element...</td>\n      <td>фронтендеры работают внешним видом сайтов серв...</td>\n      <td>https://gb.ru/geek_university/developer/progra...</td>\n    </tr>\n    <tr>\n      <th>25</th>\n      <td>команда разработчиков центрального нии эпидеми...</td>\n      <td>vs code vitest jest vite webpack pinia element...</td>\n      <td>фронтендеры работают внешним видом сайтов серв...</td>\n      <td>https://gb.ru/geek_university/developer/progra...</td>\n    </tr>\n    <tr>\n      <th>26</th>\n      <td>привет beget 15 лет предоставляем услуги хости...</td>\n      <td>vs code vitest jest vite webpack pinia element...</td>\n      <td>фронтендеры работают внешним видом сайтов серв...</td>\n      <td>https://gb.ru/geek_university/developer/progra...</td>\n    </tr>\n    <tr>\n      <th>27</th>\n      <td>работа команде профессионалами своего дела кот...</td>\n      <td>linux python docker gitlab molecule karate ans...</td>\n      <td>devops инженер занимается автоматизацией проце...</td>\n      <td>https://gb.ru/geek_university/developer/archit...</td>\n    </tr>\n    <tr>\n      <th>28</th>\n      <td>предстоит начальная настройка поддержка развит...</td>\n      <td>linux python docker gitlab molecule karate ans...</td>\n      <td>devops инженер занимается автоматизацией проце...</td>\n      <td>https://gb.ru/geek_university/developer/archit...</td>\n    </tr>\n    <tr>\n      <th>29</th>\n      <td>сегодня билайн компания изменений чутко реагир...</td>\n      <td>linux python docker gitlab molecule karate ans...</td>\n      <td>devops инженер занимается автоматизацией проце...</td>\n      <td>https://gb.ru/geek_university/developer/archit...</td>\n    </tr>\n    <tr>\n      <th>30</th>\n      <td>привет компания пик крупнейший застройщик росс...</td>\n      <td>linux python docker gitlab molecule karate ans...</td>\n      <td>devops инженер занимается автоматизацией проце...</td>\n      <td>https://gb.ru/geek_university/developer/archit...</td>\n    </tr>\n    <tr>\n      <th>31</th>\n      <td>центр развития департамента информационных тех...</td>\n      <td>linux python docker gitlab molecule karate ans...</td>\n      <td>devops инженер занимается автоматизацией проце...</td>\n      <td>https://gb.ru/geek_university/developer/archit...</td>\n    </tr>\n    <tr>\n      <th>32</th>\n      <td>инновационный стартап нацеленный создание рево...</td>\n      <td>python django flask fastapi html css pycharm d...</td>\n      <td>научим разрабатывать серверную часть веб проек...</td>\n      <td>https://gb.ru/geek_university/developer/progra...</td>\n    </tr>\n    <tr>\n      <th>33</th>\n      <td>команда production it растет развивается поиск...</td>\n      <td>python django flask fastapi html css pycharm d...</td>\n      <td>научим разрабатывать серверную часть веб проек...</td>\n      <td>https://gb.ru/geek_university/developer/progra...</td>\n    </tr>\n    <tr>\n      <th>34</th>\n      <td>обязанности разработка нового функционала бэкэ...</td>\n      <td>python django flask fastapi html css pycharm d...</td>\n      <td>научим разрабатывать серверную часть веб проек...</td>\n      <td>https://gb.ru/geek_university/developer/progra...</td>\n    </tr>\n    <tr>\n      <th>35</th>\n      <td>вакансия переездом республику татарстан обязан...</td>\n      <td>python django flask fastapi html css pycharm d...</td>\n      <td>научим разрабатывать серверную часть веб проек...</td>\n      <td>https://gb.ru/geek_university/developer/progra...</td>\n    </tr>\n    <tr>\n      <th>36</th>\n      <td>привет онлайн школа тетрика являемся одной кру...</td>\n      <td>python django flask fastapi html css pycharm d...</td>\n      <td>научим разрабатывать серверную часть веб проек...</td>\n      <td>https://gb.ru/geek_university/developer/progra...</td>\n    </tr>\n    <tr>\n      <th>37</th>\n      <td>привет будущий коллега ригинтел аккредитованна...</td>\n      <td>python django flask fastapi html css pycharm d...</td>\n      <td>научим разрабатывать серверную часть веб проек...</td>\n      <td>https://gb.ru/geek_university/developer/progra...</td>\n    </tr>\n    <tr>\n      <th>38</th>\n      <td>компания gri ищем нашу команду талантливых про...</td>\n      <td>swift objective c swift playgrounds xcode git ...</td>\n      <td>ios разработчик создает приложения айфонов айп...</td>\n      <td>https://gb.ru/geek_university/developer/progra...</td>\n    </tr>\n    <tr>\n      <th>39</th>\n      <td>кого ищем разыскиваем талантливых ios разработ...</td>\n      <td>swift objective c swift playgrounds xcode git ...</td>\n      <td>ios разработчик создает приложения айфонов айп...</td>\n      <td>https://gb.ru/geek_university/developer/progra...</td>\n    </tr>\n    <tr>\n      <th>40</th>\n      <td>бкс финтех ит компания входящая бкс мир инвест...</td>\n      <td>swift objective c swift playgrounds xcode git ...</td>\n      <td>ios разработчик создает приложения айфонов айп...</td>\n      <td>https://gb.ru/geek_university/developer/progra...</td>\n    </tr>\n    <tr>\n      <th>41</th>\n      <td>создаем приложения мобильных устройств ними ра...</td>\n      <td>swift objective c swift playgrounds xcode git ...</td>\n      <td>ios разработчик создает приложения айфонов айп...</td>\n      <td>https://gb.ru/geek_university/developer/progra...</td>\n    </tr>\n    <tr>\n      <th>42</th>\n      <td>предлагаем оформление тк первого рабочего дня ...</td>\n      <td>swift objective c swift playgrounds xcode git ...</td>\n      <td>ios разработчик создает приложения айфонов айп...</td>\n      <td>https://gb.ru/geek_university/developer/progra...</td>\n    </tr>\n    <tr>\n      <th>43</th>\n      <td>ювенко является одним крупнейших российских пр...</td>\n      <td>java kotlin android sdk junit swift objective ...</td>\n      <td>разработчики android занимаются созданием дора...</td>\n      <td>https://gb.ru/geek_university/developer/progra...</td>\n    </tr>\n    <tr>\n      <th>44</th>\n      <td>кого ищем android разработчика опытом 2 х лет ...</td>\n      <td>java kotlin android sdk junit swift objective ...</td>\n      <td>разработчики android занимаются созданием дора...</td>\n      <td>https://gb.ru/geek_university/developer/progra...</td>\n    </tr>\n    <tr>\n      <th>45</th>\n      <td>продуктовая команда которая девять лет делает ...</td>\n      <td>java kotlin android sdk junit swift objective ...</td>\n      <td>разработчики android занимаются созданием дора...</td>\n      <td>https://gb.ru/geek_university/developer/progra...</td>\n    </tr>\n    <tr>\n      <th>46</th>\n      <td>команда ubic tech разработчик передовых инфрас...</td>\n      <td>java kotlin android sdk junit swift objective ...</td>\n      <td>разработчики android занимаются созданием дора...</td>\n      <td>https://gb.ru/geek_university/developer/progra...</td>\n    </tr>\n    <tr>\n      <th>47</th>\n      <td>компания nodasoft разработчик онлайн сервисов ...</td>\n      <td>javascript html css devtools javascript html c...</td>\n      <td>qa тестировщик это специалист который создаёт ...</td>\n      <td>https://gb.ru/geek_university/it-specialist/qa</td>\n    </tr>\n    <tr>\n      <th>48</th>\n      <td>компания burger king приглашает команду специа...</td>\n      <td>javascript html css devtools javascript html c...</td>\n      <td>qa тестировщик это специалист который создаёт ...</td>\n      <td>https://gb.ru/geek_university/it-specialist/qa</td>\n    </tr>\n    <tr>\n      <th>49</th>\n      <td>основные задачи функциональное тестирование пр...</td>\n      <td>javascript html css devtools javascript html c...</td>\n      <td>qa тестировщик это специалист который создаёт ...</td>\n      <td>https://gb.ru/geek_university/it-specialist/qa</td>\n    </tr>\n    <tr>\n      <th>50</th>\n      <td>основные задачи функциональное тестирование пр...</td>\n      <td>javascript html css devtools javascript html c...</td>\n      <td>qa тестировщик это специалист который создаёт ...</td>\n      <td>https://gb.ru/geek_university/it-specialist/qa</td>\n    </tr>\n    <tr>\n      <th>51</th>\n      <td>задачи программирование поведения различных иг...</td>\n      <td>unreal engine gitlab</td>\n      <td>практике научитесь создавать игровые уровни ан...</td>\n      <td>https://gb.ru/geek_university/developer/progra...</td>\n    </tr>\n    <tr>\n      <th>52</th>\n      <td>обязанности разработка игровых командных vr иг...</td>\n      <td>unreal engine gitlab</td>\n      <td>практике научитесь создавать игровые уровни ан...</td>\n      <td>https://gb.ru/geek_university/developer/progra...</td>\n    </tr>\n    <tr>\n      <th>53</th>\n      <td>основная задача проектирование реализация сете...</td>\n      <td>unreal engine gitlab</td>\n      <td>практике научитесь создавать игровые уровни ан...</td>\n      <td>https://gb.ru/geek_university/developer/progra...</td>\n    </tr>\n  </tbody>\n</table>\n</div>"
     },
     "execution_count": 87,
     "metadata": {},
     "output_type": "execute_result"
    }
   ],
   "source": [
    "link = pd.read_excel('D:\\\\ProgPrj\\\\dsProjects\\\\ЦП_ЮФО_Подготовка\\\\datasetTMP.xlsx')\n",
    "link = link.drop(columns=\"Название продукта\")\n",
    "link"
   ],
   "metadata": {
    "collapsed": false,
    "ExecuteTime": {
     "end_time": "2024-04-28T00:58:59.564522Z",
     "start_time": "2024-04-28T00:58:59.542899Z"
    }
   },
   "id": "35f59e574623185a",
   "execution_count": 87
  },
  {
   "cell_type": "code",
   "outputs": [],
   "source": [
    "dataset = link"
   ],
   "metadata": {
    "collapsed": false,
    "ExecuteTime": {
     "end_time": "2024-04-28T00:59:59.883352Z",
     "start_time": "2024-04-28T00:59:59.880845Z"
    }
   },
   "id": "f502414d3319fbc5",
   "execution_count": 90
  },
  {
   "cell_type": "code",
   "outputs": [
    {
     "data": {
      "text/plain": "                                             Описание  \\\n0   приглашаем удаленный формат работы программист...   \n1   предстоит заниматься работа scrum agile разраб...   \n2   ооо рт информ аккредитованная it компания инфр...   \n3   первый бит это команда программистов аналитико...   \n4   перспектива карьерного роста обязанности монит...   \n5   компания zelax ищет молодых перспективных спец...   \n6   wildberries крупнейший маркетплейс россии wild...   \n7   присоединяйтесь команде сибур диджитал создаем...   \n8   обязанности разработка внедрение поддержка тер...   \n9   lamoda group это крупнейшая россии снг онлайн ...   \n10  привет аккредитованная it компания maxim techn...   \n11  simetra уверены команда это основа успеха любо...   \n12  рассвет 13 команда экспертов разработчиков обл...   \n13  центре технологии искусственного интеллекта мг...   \n14  описание расширяем команды ищем разработчиков ...   \n15  domclick ru единственный россии продукт обеспе...   \n16  ищем опытного java разработчика готового влить...   \n17  мтс digital единый центр технологического разв...   \n18  предстоит участвовать разработке внедрении нов...   \n19  предлагаем интересную работу имеем партнеров р...   \n20  autopiter ru федеральный интернет магазин прод...   \n21  ит фирма входящая наш холдинг занимается разра...   \n22  продукт smile no code решение предоставляющее ...   \n23  обязанности разработка веб приложений фреймвор...   \n24  расширяем команду разработке поэтому открываем...   \n25  команда разработчиков центрального нии эпидеми...   \n26  привет beget 15 лет предоставляем услуги хости...   \n27  работа команде профессионалами своего дела кот...   \n28  предстоит начальная настройка поддержка развит...   \n29  сегодня билайн компания изменений чутко реагир...   \n30  привет компания пик крупнейший застройщик росс...   \n31  центр развития департамента информационных тех...   \n32  инновационный стартап нацеленный создание рево...   \n33  команда production it растет развивается поиск...   \n34  обязанности разработка нового функционала бэкэ...   \n35  вакансия переездом республику татарстан обязан...   \n36  привет онлайн школа тетрика являемся одной кру...   \n37  привет будущий коллега ригинтел аккредитованна...   \n38  компания gri ищем нашу команду талантливых про...   \n39  кого ищем разыскиваем талантливых ios разработ...   \n40  бкс финтех ит компания входящая бкс мир инвест...   \n41  создаем приложения мобильных устройств ними ра...   \n42  предлагаем оформление тк первого рабочего дня ...   \n43  ювенко является одним крупнейших российских пр...   \n44  кого ищем android разработчика опытом 2 х лет ...   \n45  продуктовая команда которая девять лет делает ...   \n46  команда ubic tech разработчик передовых инфрас...   \n47  компания nodasoft разработчик онлайн сервисов ...   \n48  компания burger king приглашает команду специа...   \n49  основные задачи функциональное тестирование пр...   \n50  основные задачи функциональное тестирование пр...   \n51  задачи программирование поведения различных иг...   \n52  обязанности разработка игровых командных vr иг...   \n53  основная задача проектирование реализация сете...   \n\n                                           Технологии  \\\n0                           1c soap http xml json скд   \n1                           1c soap http xml json скд   \n2                           1c soap http xml json скд   \n3                           1c soap http xml json скд   \n4               python linux tcp ip fhrp stp bgp ospf   \n5               python linux tcp ip fhrp stp bgp ospf   \n6               python linux tcp ip fhrp stp bgp ospf   \n7               python linux tcp ip fhrp stp bgp ospf   \n8               python linux tcp ip fhrp stp bgp ospf   \n9   python pycharm gitlab pytest sql mysql postgre...   \n10  python pycharm gitlab pytest sql mysql postgre...   \n11  python pycharm gitlab pytest sql mysql postgre...   \n12  python pycharm gitlab pytest sql mysql postgre...   \n13  python pycharm gitlab pytest sql mysql postgre...   \n14  java sql nosql spring ethernet linux git libgd...   \n15  java sql nosql spring ethernet linux git libgd...   \n16  java sql nosql spring ethernet linux git libgd...   \n17  java sql nosql spring ethernet linux git libgd...   \n18   c asp net net sql nosql javascript soap grpc git   \n19   c asp net net sql nosql javascript soap grpc git   \n20   c asp net net sql nosql javascript soap grpc git   \n21   c asp net net sql nosql javascript soap grpc git   \n22  vs code vitest jest vite webpack pinia element...   \n23  vs code vitest jest vite webpack pinia element...   \n24  vs code vitest jest vite webpack pinia element...   \n25  vs code vitest jest vite webpack pinia element...   \n26  vs code vitest jest vite webpack pinia element...   \n27  linux python docker gitlab molecule karate ans...   \n28  linux python docker gitlab molecule karate ans...   \n29  linux python docker gitlab molecule karate ans...   \n30  linux python docker gitlab molecule karate ans...   \n31  linux python docker gitlab molecule karate ans...   \n32  python django flask fastapi html css pycharm d...   \n33  python django flask fastapi html css pycharm d...   \n34  python django flask fastapi html css pycharm d...   \n35  python django flask fastapi html css pycharm d...   \n36  python django flask fastapi html css pycharm d...   \n37  python django flask fastapi html css pycharm d...   \n38  swift objective c swift playgrounds xcode git ...   \n39  swift objective c swift playgrounds xcode git ...   \n40  swift objective c swift playgrounds xcode git ...   \n41  swift objective c swift playgrounds xcode git ...   \n42  swift objective c swift playgrounds xcode git ...   \n43  java kotlin android sdk junit swift objective ...   \n44  java kotlin android sdk junit swift objective ...   \n45  java kotlin android sdk junit swift objective ...   \n46  java kotlin android sdk junit swift objective ...   \n47  javascript html css devtools javascript html c...   \n48  javascript html css devtools javascript html c...   \n49  javascript html css devtools javascript html c...   \n50  javascript html css devtools javascript html c...   \n51                               unreal engine gitlab   \n52                               unreal engine gitlab   \n53                               unreal engine gitlab   \n\n                                            Профессия  \\\n0   программист 1с 1с разработчик профессия стыке ...   \n1   программист 1с 1с разработчик профессия стыке ...   \n2   программист 1с 1с разработчик профессия стыке ...   \n3   программист 1с 1с разработчик профессия стыке ...   \n4   инженер сетевым коммуникациям востребован комп...   \n5   инженер сетевым коммуникациям востребован комп...   \n6   инженер сетевым коммуникациям востребован комп...   \n7   инженер сетевым коммуникациям востребован комп...   \n8   инженер сетевым коммуникациям востребован комп...   \n9   python пишут сайты приложения игры чат боты на...   \n10  python пишут сайты приложения игры чат боты на...   \n11  python пишут сайты приложения игры чат боты на...   \n12  python пишут сайты приложения игры чат боты на...   \n13  python пишут сайты приложения игры чат боты на...   \n14  пройдите обучение инженера программиста java п...   \n15  пройдите обучение инженера программиста java п...   \n16  пройдите обучение инженера программиста java п...   \n17  пройдите обучение инженера программиста java п...   \n18  c c sharp объектно ориентированный язык програ...   \n19  c c sharp объектно ориентированный язык програ...   \n20  c c sharp объектно ориентированный язык програ...   \n21  c c sharp объектно ориентированный язык програ...   \n22  фронтендеры работают внешним видом сайтов серв...   \n23  фронтендеры работают внешним видом сайтов серв...   \n24  фронтендеры работают внешним видом сайтов серв...   \n25  фронтендеры работают внешним видом сайтов серв...   \n26  фронтендеры работают внешним видом сайтов серв...   \n27  devops инженер занимается автоматизацией проце...   \n28  devops инженер занимается автоматизацией проце...   \n29  devops инженер занимается автоматизацией проце...   \n30  devops инженер занимается автоматизацией проце...   \n31  devops инженер занимается автоматизацией проце...   \n32  научим разрабатывать серверную часть веб проек...   \n33  научим разрабатывать серверную часть веб проек...   \n34  научим разрабатывать серверную часть веб проек...   \n35  научим разрабатывать серверную часть веб проек...   \n36  научим разрабатывать серверную часть веб проек...   \n37  научим разрабатывать серверную часть веб проек...   \n38  ios разработчик создает приложения айфонов айп...   \n39  ios разработчик создает приложения айфонов айп...   \n40  ios разработчик создает приложения айфонов айп...   \n41  ios разработчик создает приложения айфонов айп...   \n42  ios разработчик создает приложения айфонов айп...   \n43  разработчики android занимаются созданием дора...   \n44  разработчики android занимаются созданием дора...   \n45  разработчики android занимаются созданием дора...   \n46  разработчики android занимаются созданием дора...   \n47  qa тестировщик это специалист который создаёт ...   \n48  qa тестировщик это специалист который создаёт ...   \n49  qa тестировщик это специалист который создаёт ...   \n50  qa тестировщик это специалист который создаёт ...   \n51  практике научитесь создавать игровые уровни ан...   \n52  практике научитесь создавать игровые уровни ан...   \n53  практике научитесь создавать игровые уровни ан...   \n\n                                    Ссылка на продукт  \n0   https://gb.ru/geek_university/developer/progra...  \n1   https://gb.ru/geek_university/developer/progra...  \n2   https://gb.ru/geek_university/developer/progra...  \n3   https://gb.ru/geek_university/developer/progra...  \n4   https://gb.ru/geek_university/developer/archit...  \n5   https://gb.ru/geek_university/developer/archit...  \n6   https://gb.ru/geek_university/developer/archit...  \n7   https://gb.ru/geek_university/developer/archit...  \n8   https://gb.ru/geek_university/developer/archit...  \n9   https://gb.ru/geek_university/developer/progra...  \n10  https://gb.ru/geek_university/developer/progra...  \n11  https://gb.ru/geek_university/developer/progra...  \n12  https://gb.ru/geek_university/developer/progra...  \n13  https://gb.ru/geek_university/developer/progra...  \n14  https://gb.ru/geek_university/developer/progra...  \n15  https://gb.ru/geek_university/developer/progra...  \n16  https://gb.ru/geek_university/developer/progra...  \n17  https://gb.ru/geek_university/developer/progra...  \n18  https://gb.ru/geek_university/developer/progra...  \n19  https://gb.ru/geek_university/developer/progra...  \n20  https://gb.ru/geek_university/developer/progra...  \n21  https://gb.ru/geek_university/developer/progra...  \n22  https://gb.ru/geek_university/developer/progra...  \n23  https://gb.ru/geek_university/developer/progra...  \n24  https://gb.ru/geek_university/developer/progra...  \n25  https://gb.ru/geek_university/developer/progra...  \n26  https://gb.ru/geek_university/developer/progra...  \n27  https://gb.ru/geek_university/developer/archit...  \n28  https://gb.ru/geek_university/developer/archit...  \n29  https://gb.ru/geek_university/developer/archit...  \n30  https://gb.ru/geek_university/developer/archit...  \n31  https://gb.ru/geek_university/developer/archit...  \n32  https://gb.ru/geek_university/developer/progra...  \n33  https://gb.ru/geek_university/developer/progra...  \n34  https://gb.ru/geek_university/developer/progra...  \n35  https://gb.ru/geek_university/developer/progra...  \n36  https://gb.ru/geek_university/developer/progra...  \n37  https://gb.ru/geek_university/developer/progra...  \n38  https://gb.ru/geek_university/developer/progra...  \n39  https://gb.ru/geek_university/developer/progra...  \n40  https://gb.ru/geek_university/developer/progra...  \n41  https://gb.ru/geek_university/developer/progra...  \n42  https://gb.ru/geek_university/developer/progra...  \n43  https://gb.ru/geek_university/developer/progra...  \n44  https://gb.ru/geek_university/developer/progra...  \n45  https://gb.ru/geek_university/developer/progra...  \n46  https://gb.ru/geek_university/developer/progra...  \n47     https://gb.ru/geek_university/it-specialist/qa  \n48     https://gb.ru/geek_university/it-specialist/qa  \n49     https://gb.ru/geek_university/it-specialist/qa  \n50     https://gb.ru/geek_university/it-specialist/qa  \n51  https://gb.ru/geek_university/developer/progra...  \n52  https://gb.ru/geek_university/developer/progra...  \n53  https://gb.ru/geek_university/developer/progra...  ",
      "text/html": "<div>\n<style scoped>\n    .dataframe tbody tr th:only-of-type {\n        vertical-align: middle;\n    }\n\n    .dataframe tbody tr th {\n        vertical-align: top;\n    }\n\n    .dataframe thead th {\n        text-align: right;\n    }\n</style>\n<table border=\"1\" class=\"dataframe\">\n  <thead>\n    <tr style=\"text-align: right;\">\n      <th></th>\n      <th>Описание</th>\n      <th>Технологии</th>\n      <th>Профессия</th>\n      <th>Ссылка на продукт</th>\n    </tr>\n  </thead>\n  <tbody>\n    <tr>\n      <th>0</th>\n      <td>приглашаем удаленный формат работы программист...</td>\n      <td>1c soap http xml json скд</td>\n      <td>программист 1с 1с разработчик профессия стыке ...</td>\n      <td>https://gb.ru/geek_university/developer/progra...</td>\n    </tr>\n    <tr>\n      <th>1</th>\n      <td>предстоит заниматься работа scrum agile разраб...</td>\n      <td>1c soap http xml json скд</td>\n      <td>программист 1с 1с разработчик профессия стыке ...</td>\n      <td>https://gb.ru/geek_university/developer/progra...</td>\n    </tr>\n    <tr>\n      <th>2</th>\n      <td>ооо рт информ аккредитованная it компания инфр...</td>\n      <td>1c soap http xml json скд</td>\n      <td>программист 1с 1с разработчик профессия стыке ...</td>\n      <td>https://gb.ru/geek_university/developer/progra...</td>\n    </tr>\n    <tr>\n      <th>3</th>\n      <td>первый бит это команда программистов аналитико...</td>\n      <td>1c soap http xml json скд</td>\n      <td>программист 1с 1с разработчик профессия стыке ...</td>\n      <td>https://gb.ru/geek_university/developer/progra...</td>\n    </tr>\n    <tr>\n      <th>4</th>\n      <td>перспектива карьерного роста обязанности монит...</td>\n      <td>python linux tcp ip fhrp stp bgp ospf</td>\n      <td>инженер сетевым коммуникациям востребован комп...</td>\n      <td>https://gb.ru/geek_university/developer/archit...</td>\n    </tr>\n    <tr>\n      <th>5</th>\n      <td>компания zelax ищет молодых перспективных спец...</td>\n      <td>python linux tcp ip fhrp stp bgp ospf</td>\n      <td>инженер сетевым коммуникациям востребован комп...</td>\n      <td>https://gb.ru/geek_university/developer/archit...</td>\n    </tr>\n    <tr>\n      <th>6</th>\n      <td>wildberries крупнейший маркетплейс россии wild...</td>\n      <td>python linux tcp ip fhrp stp bgp ospf</td>\n      <td>инженер сетевым коммуникациям востребован комп...</td>\n      <td>https://gb.ru/geek_university/developer/archit...</td>\n    </tr>\n    <tr>\n      <th>7</th>\n      <td>присоединяйтесь команде сибур диджитал создаем...</td>\n      <td>python linux tcp ip fhrp stp bgp ospf</td>\n      <td>инженер сетевым коммуникациям востребован комп...</td>\n      <td>https://gb.ru/geek_university/developer/archit...</td>\n    </tr>\n    <tr>\n      <th>8</th>\n      <td>обязанности разработка внедрение поддержка тер...</td>\n      <td>python linux tcp ip fhrp stp bgp ospf</td>\n      <td>инженер сетевым коммуникациям востребован комп...</td>\n      <td>https://gb.ru/geek_university/developer/archit...</td>\n    </tr>\n    <tr>\n      <th>9</th>\n      <td>lamoda group это крупнейшая россии снг онлайн ...</td>\n      <td>python pycharm gitlab pytest sql mysql postgre...</td>\n      <td>python пишут сайты приложения игры чат боты на...</td>\n      <td>https://gb.ru/geek_university/developer/progra...</td>\n    </tr>\n    <tr>\n      <th>10</th>\n      <td>привет аккредитованная it компания maxim techn...</td>\n      <td>python pycharm gitlab pytest sql mysql postgre...</td>\n      <td>python пишут сайты приложения игры чат боты на...</td>\n      <td>https://gb.ru/geek_university/developer/progra...</td>\n    </tr>\n    <tr>\n      <th>11</th>\n      <td>simetra уверены команда это основа успеха любо...</td>\n      <td>python pycharm gitlab pytest sql mysql postgre...</td>\n      <td>python пишут сайты приложения игры чат боты на...</td>\n      <td>https://gb.ru/geek_university/developer/progra...</td>\n    </tr>\n    <tr>\n      <th>12</th>\n      <td>рассвет 13 команда экспертов разработчиков обл...</td>\n      <td>python pycharm gitlab pytest sql mysql postgre...</td>\n      <td>python пишут сайты приложения игры чат боты на...</td>\n      <td>https://gb.ru/geek_university/developer/progra...</td>\n    </tr>\n    <tr>\n      <th>13</th>\n      <td>центре технологии искусственного интеллекта мг...</td>\n      <td>python pycharm gitlab pytest sql mysql postgre...</td>\n      <td>python пишут сайты приложения игры чат боты на...</td>\n      <td>https://gb.ru/geek_university/developer/progra...</td>\n    </tr>\n    <tr>\n      <th>14</th>\n      <td>описание расширяем команды ищем разработчиков ...</td>\n      <td>java sql nosql spring ethernet linux git libgd...</td>\n      <td>пройдите обучение инженера программиста java п...</td>\n      <td>https://gb.ru/geek_university/developer/progra...</td>\n    </tr>\n    <tr>\n      <th>15</th>\n      <td>domclick ru единственный россии продукт обеспе...</td>\n      <td>java sql nosql spring ethernet linux git libgd...</td>\n      <td>пройдите обучение инженера программиста java п...</td>\n      <td>https://gb.ru/geek_university/developer/progra...</td>\n    </tr>\n    <tr>\n      <th>16</th>\n      <td>ищем опытного java разработчика готового влить...</td>\n      <td>java sql nosql spring ethernet linux git libgd...</td>\n      <td>пройдите обучение инженера программиста java п...</td>\n      <td>https://gb.ru/geek_university/developer/progra...</td>\n    </tr>\n    <tr>\n      <th>17</th>\n      <td>мтс digital единый центр технологического разв...</td>\n      <td>java sql nosql spring ethernet linux git libgd...</td>\n      <td>пройдите обучение инженера программиста java п...</td>\n      <td>https://gb.ru/geek_university/developer/progra...</td>\n    </tr>\n    <tr>\n      <th>18</th>\n      <td>предстоит участвовать разработке внедрении нов...</td>\n      <td>c asp net net sql nosql javascript soap grpc git</td>\n      <td>c c sharp объектно ориентированный язык програ...</td>\n      <td>https://gb.ru/geek_university/developer/progra...</td>\n    </tr>\n    <tr>\n      <th>19</th>\n      <td>предлагаем интересную работу имеем партнеров р...</td>\n      <td>c asp net net sql nosql javascript soap grpc git</td>\n      <td>c c sharp объектно ориентированный язык програ...</td>\n      <td>https://gb.ru/geek_university/developer/progra...</td>\n    </tr>\n    <tr>\n      <th>20</th>\n      <td>autopiter ru федеральный интернет магазин прод...</td>\n      <td>c asp net net sql nosql javascript soap grpc git</td>\n      <td>c c sharp объектно ориентированный язык програ...</td>\n      <td>https://gb.ru/geek_university/developer/progra...</td>\n    </tr>\n    <tr>\n      <th>21</th>\n      <td>ит фирма входящая наш холдинг занимается разра...</td>\n      <td>c asp net net sql nosql javascript soap grpc git</td>\n      <td>c c sharp объектно ориентированный язык програ...</td>\n      <td>https://gb.ru/geek_university/developer/progra...</td>\n    </tr>\n    <tr>\n      <th>22</th>\n      <td>продукт smile no code решение предоставляющее ...</td>\n      <td>vs code vitest jest vite webpack pinia element...</td>\n      <td>фронтендеры работают внешним видом сайтов серв...</td>\n      <td>https://gb.ru/geek_university/developer/progra...</td>\n    </tr>\n    <tr>\n      <th>23</th>\n      <td>обязанности разработка веб приложений фреймвор...</td>\n      <td>vs code vitest jest vite webpack pinia element...</td>\n      <td>фронтендеры работают внешним видом сайтов серв...</td>\n      <td>https://gb.ru/geek_university/developer/progra...</td>\n    </tr>\n    <tr>\n      <th>24</th>\n      <td>расширяем команду разработке поэтому открываем...</td>\n      <td>vs code vitest jest vite webpack pinia element...</td>\n      <td>фронтендеры работают внешним видом сайтов серв...</td>\n      <td>https://gb.ru/geek_university/developer/progra...</td>\n    </tr>\n    <tr>\n      <th>25</th>\n      <td>команда разработчиков центрального нии эпидеми...</td>\n      <td>vs code vitest jest vite webpack pinia element...</td>\n      <td>фронтендеры работают внешним видом сайтов серв...</td>\n      <td>https://gb.ru/geek_university/developer/progra...</td>\n    </tr>\n    <tr>\n      <th>26</th>\n      <td>привет beget 15 лет предоставляем услуги хости...</td>\n      <td>vs code vitest jest vite webpack pinia element...</td>\n      <td>фронтендеры работают внешним видом сайтов серв...</td>\n      <td>https://gb.ru/geek_university/developer/progra...</td>\n    </tr>\n    <tr>\n      <th>27</th>\n      <td>работа команде профессионалами своего дела кот...</td>\n      <td>linux python docker gitlab molecule karate ans...</td>\n      <td>devops инженер занимается автоматизацией проце...</td>\n      <td>https://gb.ru/geek_university/developer/archit...</td>\n    </tr>\n    <tr>\n      <th>28</th>\n      <td>предстоит начальная настройка поддержка развит...</td>\n      <td>linux python docker gitlab molecule karate ans...</td>\n      <td>devops инженер занимается автоматизацией проце...</td>\n      <td>https://gb.ru/geek_university/developer/archit...</td>\n    </tr>\n    <tr>\n      <th>29</th>\n      <td>сегодня билайн компания изменений чутко реагир...</td>\n      <td>linux python docker gitlab molecule karate ans...</td>\n      <td>devops инженер занимается автоматизацией проце...</td>\n      <td>https://gb.ru/geek_university/developer/archit...</td>\n    </tr>\n    <tr>\n      <th>30</th>\n      <td>привет компания пик крупнейший застройщик росс...</td>\n      <td>linux python docker gitlab molecule karate ans...</td>\n      <td>devops инженер занимается автоматизацией проце...</td>\n      <td>https://gb.ru/geek_university/developer/archit...</td>\n    </tr>\n    <tr>\n      <th>31</th>\n      <td>центр развития департамента информационных тех...</td>\n      <td>linux python docker gitlab molecule karate ans...</td>\n      <td>devops инженер занимается автоматизацией проце...</td>\n      <td>https://gb.ru/geek_university/developer/archit...</td>\n    </tr>\n    <tr>\n      <th>32</th>\n      <td>инновационный стартап нацеленный создание рево...</td>\n      <td>python django flask fastapi html css pycharm d...</td>\n      <td>научим разрабатывать серверную часть веб проек...</td>\n      <td>https://gb.ru/geek_university/developer/progra...</td>\n    </tr>\n    <tr>\n      <th>33</th>\n      <td>команда production it растет развивается поиск...</td>\n      <td>python django flask fastapi html css pycharm d...</td>\n      <td>научим разрабатывать серверную часть веб проек...</td>\n      <td>https://gb.ru/geek_university/developer/progra...</td>\n    </tr>\n    <tr>\n      <th>34</th>\n      <td>обязанности разработка нового функционала бэкэ...</td>\n      <td>python django flask fastapi html css pycharm d...</td>\n      <td>научим разрабатывать серверную часть веб проек...</td>\n      <td>https://gb.ru/geek_university/developer/progra...</td>\n    </tr>\n    <tr>\n      <th>35</th>\n      <td>вакансия переездом республику татарстан обязан...</td>\n      <td>python django flask fastapi html css pycharm d...</td>\n      <td>научим разрабатывать серверную часть веб проек...</td>\n      <td>https://gb.ru/geek_university/developer/progra...</td>\n    </tr>\n    <tr>\n      <th>36</th>\n      <td>привет онлайн школа тетрика являемся одной кру...</td>\n      <td>python django flask fastapi html css pycharm d...</td>\n      <td>научим разрабатывать серверную часть веб проек...</td>\n      <td>https://gb.ru/geek_university/developer/progra...</td>\n    </tr>\n    <tr>\n      <th>37</th>\n      <td>привет будущий коллега ригинтел аккредитованна...</td>\n      <td>python django flask fastapi html css pycharm d...</td>\n      <td>научим разрабатывать серверную часть веб проек...</td>\n      <td>https://gb.ru/geek_university/developer/progra...</td>\n    </tr>\n    <tr>\n      <th>38</th>\n      <td>компания gri ищем нашу команду талантливых про...</td>\n      <td>swift objective c swift playgrounds xcode git ...</td>\n      <td>ios разработчик создает приложения айфонов айп...</td>\n      <td>https://gb.ru/geek_university/developer/progra...</td>\n    </tr>\n    <tr>\n      <th>39</th>\n      <td>кого ищем разыскиваем талантливых ios разработ...</td>\n      <td>swift objective c swift playgrounds xcode git ...</td>\n      <td>ios разработчик создает приложения айфонов айп...</td>\n      <td>https://gb.ru/geek_university/developer/progra...</td>\n    </tr>\n    <tr>\n      <th>40</th>\n      <td>бкс финтех ит компания входящая бкс мир инвест...</td>\n      <td>swift objective c swift playgrounds xcode git ...</td>\n      <td>ios разработчик создает приложения айфонов айп...</td>\n      <td>https://gb.ru/geek_university/developer/progra...</td>\n    </tr>\n    <tr>\n      <th>41</th>\n      <td>создаем приложения мобильных устройств ними ра...</td>\n      <td>swift objective c swift playgrounds xcode git ...</td>\n      <td>ios разработчик создает приложения айфонов айп...</td>\n      <td>https://gb.ru/geek_university/developer/progra...</td>\n    </tr>\n    <tr>\n      <th>42</th>\n      <td>предлагаем оформление тк первого рабочего дня ...</td>\n      <td>swift objective c swift playgrounds xcode git ...</td>\n      <td>ios разработчик создает приложения айфонов айп...</td>\n      <td>https://gb.ru/geek_university/developer/progra...</td>\n    </tr>\n    <tr>\n      <th>43</th>\n      <td>ювенко является одним крупнейших российских пр...</td>\n      <td>java kotlin android sdk junit swift objective ...</td>\n      <td>разработчики android занимаются созданием дора...</td>\n      <td>https://gb.ru/geek_university/developer/progra...</td>\n    </tr>\n    <tr>\n      <th>44</th>\n      <td>кого ищем android разработчика опытом 2 х лет ...</td>\n      <td>java kotlin android sdk junit swift objective ...</td>\n      <td>разработчики android занимаются созданием дора...</td>\n      <td>https://gb.ru/geek_university/developer/progra...</td>\n    </tr>\n    <tr>\n      <th>45</th>\n      <td>продуктовая команда которая девять лет делает ...</td>\n      <td>java kotlin android sdk junit swift objective ...</td>\n      <td>разработчики android занимаются созданием дора...</td>\n      <td>https://gb.ru/geek_university/developer/progra...</td>\n    </tr>\n    <tr>\n      <th>46</th>\n      <td>команда ubic tech разработчик передовых инфрас...</td>\n      <td>java kotlin android sdk junit swift objective ...</td>\n      <td>разработчики android занимаются созданием дора...</td>\n      <td>https://gb.ru/geek_university/developer/progra...</td>\n    </tr>\n    <tr>\n      <th>47</th>\n      <td>компания nodasoft разработчик онлайн сервисов ...</td>\n      <td>javascript html css devtools javascript html c...</td>\n      <td>qa тестировщик это специалист который создаёт ...</td>\n      <td>https://gb.ru/geek_university/it-specialist/qa</td>\n    </tr>\n    <tr>\n      <th>48</th>\n      <td>компания burger king приглашает команду специа...</td>\n      <td>javascript html css devtools javascript html c...</td>\n      <td>qa тестировщик это специалист который создаёт ...</td>\n      <td>https://gb.ru/geek_university/it-specialist/qa</td>\n    </tr>\n    <tr>\n      <th>49</th>\n      <td>основные задачи функциональное тестирование пр...</td>\n      <td>javascript html css devtools javascript html c...</td>\n      <td>qa тестировщик это специалист который создаёт ...</td>\n      <td>https://gb.ru/geek_university/it-specialist/qa</td>\n    </tr>\n    <tr>\n      <th>50</th>\n      <td>основные задачи функциональное тестирование пр...</td>\n      <td>javascript html css devtools javascript html c...</td>\n      <td>qa тестировщик это специалист который создаёт ...</td>\n      <td>https://gb.ru/geek_university/it-specialist/qa</td>\n    </tr>\n    <tr>\n      <th>51</th>\n      <td>задачи программирование поведения различных иг...</td>\n      <td>unreal engine gitlab</td>\n      <td>практике научитесь создавать игровые уровни ан...</td>\n      <td>https://gb.ru/geek_university/developer/progra...</td>\n    </tr>\n    <tr>\n      <th>52</th>\n      <td>обязанности разработка игровых командных vr иг...</td>\n      <td>unreal engine gitlab</td>\n      <td>практике научитесь создавать игровые уровни ан...</td>\n      <td>https://gb.ru/geek_university/developer/progra...</td>\n    </tr>\n    <tr>\n      <th>53</th>\n      <td>основная задача проектирование реализация сете...</td>\n      <td>unreal engine gitlab</td>\n      <td>практике научитесь создавать игровые уровни ан...</td>\n      <td>https://gb.ru/geek_university/developer/progra...</td>\n    </tr>\n  </tbody>\n</table>\n</div>"
     },
     "execution_count": 91,
     "metadata": {},
     "output_type": "execute_result"
    }
   ],
   "source": [
    "dataset"
   ],
   "metadata": {
    "collapsed": false,
    "ExecuteTime": {
     "end_time": "2024-04-28T01:00:00.407634Z",
     "start_time": "2024-04-28T01:00:00.400113Z"
    }
   },
   "id": "5e6960d38e44d36d",
   "execution_count": 91
  },
  {
   "cell_type": "code",
   "outputs": [],
   "source": [
    "\n",
    "def predict_url(description):\n",
    "    encoded = tokenizer.encode_plus(\n",
    "        description, add_special_tokens=True, max_length=512,\n",
    "        padding='max_length', truncation=True, return_attention_mask=True,\n",
    "        return_tensors='pt')\n",
    "    input_ids = encoded['input_ids'].to(device)\n",
    "    attention_mask = encoded['attention_mask'].to(device)\n",
    "    with torch.no_grad():\n",
    "        outputs = model(input_ids, attention_mask)\n",
    "        _, predicted_index = torch.max(outputs, dim=1)\n",
    "    return le.inverse_transform([predicted_index.item()])[0]"
   ],
   "metadata": {
    "collapsed": false,
    "ExecuteTime": {
     "end_time": "2024-04-28T01:00:01.267359Z",
     "start_time": "2024-04-28T01:00:01.263831Z"
    }
   },
   "id": "232a330210a829f6",
   "execution_count": 92
  },
  {
   "cell_type": "code",
   "outputs": [],
   "source": [
    "\n",
    "def recommend_product(user_description, dataset):\n",
    "    tfidf_desc = TfidfVectorizer()\n",
    "    tfidf_matrix_desc = tfidf_desc.fit_transform(dataset[\"Описание\"])\n",
    "    cleaned_query = clean_text(user_description)\n",
    "    query_vector_desc = tfidf_desc.transform([cleaned_query])\n",
    "    cos_sim_desc = cosine_similarity(query_vector_desc, tfidf_matrix_desc)\n",
    "    enhanced_cos_sim = cos_sim_desc * 2  # Увеличиваем влияние TF-IDF\n",
    "    best_idx = enhanced_cos_sim.argmax()\n",
    "    return dataset.iloc[best_idx]['Ссылка на продукт']\n",
    "\n"
   ],
   "metadata": {
    "collapsed": false,
    "ExecuteTime": {
     "end_time": "2024-04-28T01:00:01.941856Z",
     "start_time": "2024-04-28T01:00:01.938649Z"
    }
   },
   "id": "482d35e78b96a584",
   "execution_count": 93
  },
  {
   "cell_type": "code",
   "outputs": [],
   "source": [
    "\n",
    "# Пользовательский ввод и вывод предсказаний\n",
    "user_description = \"\""
   ],
   "metadata": {
    "collapsed": false,
    "ExecuteTime": {
     "end_time": "2024-04-28T01:06:52.466334Z",
     "start_time": "2024-04-28T01:06:52.462803Z"
    }
   },
   "id": "c1c9bfa225b5a1e",
   "execution_count": 106
  },
  {
   "cell_type": "code",
   "outputs": [],
   "source": [
    "predicted_url = predict_url(user_description)\n",
    "recommended_product = recommend_product(user_description, dataset)"
   ],
   "metadata": {
    "collapsed": false,
    "ExecuteTime": {
     "end_time": "2024-04-28T01:06:53.186567Z",
     "start_time": "2024-04-28T01:06:52.976618Z"
    }
   },
   "id": "4158985a6c5d3896",
   "execution_count": 107
  },
  {
   "cell_type": "code",
   "outputs": [],
   "source": [
    "# Выбор наиболее предпочтительного ответа\n",
    "ensemble_output = predicted_url if predicted_url == recommended_product else recommended_product"
   ],
   "metadata": {
    "collapsed": false,
    "ExecuteTime": {
     "end_time": "2024-04-28T01:06:53.803141Z",
     "start_time": "2024-04-28T01:06:53.801022Z"
    }
   },
   "id": "20bbe076a1ee7f32",
   "execution_count": 108
  },
  {
   "cell_type": "code",
   "outputs": [
    {
     "name": "stdout",
     "output_type": "stream",
     "text": [
      "Вывод ансамбля: https://gb.ru/geek_university/developer/programmer/ios\n"
     ]
    }
   ],
   "source": [
    "\n",
    "print(f\"Вывод ансамбля: {ensemble_output}\")"
   ],
   "metadata": {
    "collapsed": false,
    "ExecuteTime": {
     "end_time": "2024-04-28T01:10:27.400579Z",
     "start_time": "2024-04-28T01:10:27.397507Z"
    }
   },
   "id": "ca60cf65c408b74f",
   "execution_count": 110
  },
  {
   "cell_type": "code",
   "outputs": [],
   "source": [],
   "metadata": {
    "collapsed": false
   },
   "id": "b0b993b62d2794e4"
  }
 ],
 "metadata": {
  "kernelspec": {
   "display_name": "Python 3",
   "language": "python",
   "name": "python3"
  },
  "language_info": {
   "codemirror_mode": {
    "name": "ipython",
    "version": 2
   },
   "file_extension": ".py",
   "mimetype": "text/x-python",
   "name": "python",
   "nbconvert_exporter": "python",
   "pygments_lexer": "ipython2",
   "version": "2.7.6"
  }
 },
 "nbformat": 4,
 "nbformat_minor": 5
}
