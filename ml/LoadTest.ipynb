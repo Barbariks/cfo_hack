{
 "cells": [
  {
   "cell_type": "code",
   "outputs": [],
   "source": [
    "import torch\n",
    "import torch.nn as nn\n",
    "from transformers import BertModel, BertTokenizer\n",
    "import pickle"
   ],
   "metadata": {
    "collapsed": false,
    "ExecuteTime": {
     "end_time": "2024-04-27T21:55:28.032234Z",
     "start_time": "2024-04-27T21:55:22.835842Z"
    }
   },
   "id": "241f4b08737721b0",
   "execution_count": 1
  },
  {
   "cell_type": "code",
   "outputs": [],
   "source": [
    "# Конфигурация устройства\n",
    "device = torch.device(\"cuda\" if torch.cuda.is_available() else \"cpu\")"
   ],
   "metadata": {
    "collapsed": false,
    "ExecuteTime": {
     "end_time": "2024-04-27T21:55:30.051131Z",
     "start_time": "2024-04-27T21:55:30.018835Z"
    }
   },
   "id": "73ef969a0feafa7d",
   "execution_count": 2
  },
  {
   "cell_type": "code",
   "outputs": [],
   "source": [
    "# Определение класса модели (должен быть таким же, как при обучении)\n",
    "class TextClassifier(nn.Module):\n",
    "    def __init__(self, n_classes):\n",
    "        super(TextClassifier, self).__init__()\n",
    "        self.bert = BertModel.from_pretrained('DeepPavlov/rubert-base-cased', return_dict=False)\n",
    "        self.dropout = nn.Dropout(p=0.1)\n",
    "        self.classifier = nn.Linear(self.bert.config.hidden_size, n_classes)\n",
    "\n",
    "    def forward(self, input_ids, attention_mask):\n",
    "        outputs = self.bert(input_ids, attention_mask=attention_mask)\n",
    "        output = self.dropout(outputs[1])  # берем pooled output\n",
    "        return self.classifier(output)"
   ],
   "metadata": {
    "collapsed": false,
    "ExecuteTime": {
     "end_time": "2024-04-27T21:55:30.682282Z",
     "start_time": "2024-04-27T21:55:30.678431Z"
    }
   },
   "id": "dcaacc8b81f0b7e6",
   "execution_count": 3
  },
  {
   "cell_type": "code",
   "outputs": [
    {
     "name": "stderr",
     "output_type": "stream",
     "text": [
      "Some weights of the model checkpoint at DeepPavlov/rubert-base-cased were not used when initializing BertModel: ['cls.predictions.bias', 'cls.predictions.decoder.bias', 'cls.predictions.decoder.weight', 'cls.predictions.transform.LayerNorm.bias', 'cls.predictions.transform.LayerNorm.weight', 'cls.predictions.transform.dense.bias', 'cls.predictions.transform.dense.weight', 'cls.seq_relationship.bias', 'cls.seq_relationship.weight']\n",
      "- This IS expected if you are initializing BertModel from the checkpoint of a model trained on another task or with another architecture (e.g. initializing a BertForSequenceClassification model from a BertForPreTraining model).\n",
      "- This IS NOT expected if you are initializing BertModel from the checkpoint of a model that you expect to be exactly identical (initializing a BertForSequenceClassification model from a BertForSequenceClassification model).\n"
     ]
    }
   ],
   "source": [
    "# Загрузка модели\n",
    "n_classes = 12  # Задайте правильное количество классов, использованных при обучении\n",
    "model = TextClassifier(n_classes);\n",
    "model.load_state_dict(torch.load('model_CFO_sd.pth', map_location=device))\n",
    "model.to(device)\n",
    "model.eval();"
   ],
   "metadata": {
    "collapsed": false,
    "ExecuteTime": {
     "end_time": "2024-04-27T21:55:49.511336Z",
     "start_time": "2024-04-27T21:55:47.993486Z"
    }
   },
   "id": "6769e5f8c4155153",
   "execution_count": 6
  },
  {
   "cell_type": "code",
   "outputs": [],
   "source": [
    "# Загрузка LabelEncoder\n",
    "with open('label_encoder.pkl', 'rb') as file:\n",
    "    le = pickle.load(file)"
   ],
   "metadata": {
    "collapsed": false,
    "ExecuteTime": {
     "end_time": "2024-04-27T21:55:59.398061Z",
     "start_time": "2024-04-27T21:55:57.575791Z"
    }
   },
   "id": "5233ed78bda4f970",
   "execution_count": 7
  },
  {
   "cell_type": "code",
   "outputs": [],
   "source": [
    "# Загрузка токенизатора\n",
    "tokenizer = BertTokenizer.from_pretrained('DeepPavlov/rubert-base-cased')\n"
   ],
   "metadata": {
    "collapsed": false,
    "ExecuteTime": {
     "end_time": "2024-04-27T21:56:00.958422Z",
     "start_time": "2024-04-27T21:56:00.535283Z"
    }
   },
   "id": "715d4c4516a294ff",
   "execution_count": 8
  },
  {
   "cell_type": "code",
   "outputs": [],
   "source": [
    "# Функция для выполнения предсказания\n",
    "def predict_url(description):\n",
    "    encoded = tokenizer.encode_plus(\n",
    "        description,\n",
    "        add_special_tokens=True,\n",
    "        max_length=512,\n",
    "        padding='max_length',\n",
    "        truncation=True,\n",
    "        return_attention_mask=True,\n",
    "        return_tensors='pt'\n",
    "    )\n",
    "    input_ids = encoded['input_ids'].to(device)\n",
    "    attention_mask = encoded['attention_mask'].to(device)\n",
    "\n",
    "    with torch.no_grad():\n",
    "        outputs = model(input_ids, attention_mask)\n",
    "        _, predicted_index = torch.max(outputs, dim=1)\n",
    "\n",
    "    return le.inverse_transform([predicted_index.item()])[0]"
   ],
   "metadata": {
    "collapsed": false,
    "ExecuteTime": {
     "end_time": "2024-04-27T21:56:02.358127Z",
     "start_time": "2024-04-27T21:56:02.353125Z"
    }
   },
   "id": "cfad5551090e82bc",
   "execution_count": 9
  },
  {
   "cell_type": "code",
   "outputs": [],
   "source": [
    "\n",
    "# Ввод описания пользователем и вывод предсказанного URL\n",
    "description = 'Технологическая компания BСSports, специализирующаяся на развитии технологий в спортивной индустрии, расширяет VR/AR подразделение и приглашает разработчиков для усиления команды. Основное направление работы - создание спортивных VR-игр на движках Unity и Unreal Engine.Ждем в команду целеустремленных разработчиков , горящих VR идеями и способных двигать индустрию вперед вместе с нами!Основная задача:Проектирование и реализация сетевой архитектуры для многопользовательских проектов на игровом движке Unity.Обязанности:Разработка сетевой логики;Проектирование, реализация, отладка и поддержка сетевых механик;Оптимизация проекта и повышение производительности;Рефакторинг имеющегося кода;Ежедневное участие в онлайн планерках, с целью устранения возникших проблем, а также помощи товарищам по команде;Участие в тестах разрабатываемого продукта.Требования:Опыт работы с Unity от 3х лет.Хорошее знание C#, ООП, SOLID.Опыт создания игровых механик.Опыт работы с мультиплеером.Понимание клиент-серверной архитектуры.Понимание сетевых протоколов.Наличие завершенных проектов или пет-проектов, которые можно продемонстрировать.Умение анализировать производительность и проводить оптимизацию.Понимание всех циклов разработки игрового продукта.Умение работать с системами контроля версий Git.Умение работать в команде.Нацеленность на результат, соблюдение дедлайнов.Технический английский, достаточный для чтения документации.Интерес к созданию VR проектов;Будет плюсом:Знание мультиплеерных движков: Photon, Mirror, NetCode;Опыт реализации собственных мультиплеерных движков;Проектирование БД и знание SQL;Опыт работы с Docker, Cubernets, CI / CD;Опыт работы с VR и сборка проектов для Meta Quest и Pico;Реализация подгрузки динамического контента. CDN.Условия:Работа над интересными проектами, двигающими VR индустрию вперед;Возможно официальное оформление;Молодой коллектив VR-энтузиастов с массой новейшего VR / AR оборудования.Своевременная оплата (дважды в месяц).Просторные офисы в Москве (Москва сити) и в Минске (БЦ “Футура”).'\n"
   ],
   "metadata": {
    "collapsed": false,
    "ExecuteTime": {
     "end_time": "2024-04-27T22:21:31.948747Z",
     "start_time": "2024-04-27T22:21:31.945068Z"
    }
   },
   "id": "e401612b37ef74b4",
   "execution_count": 20
  },
  {
   "cell_type": "code",
   "outputs": [
    {
     "name": "stdout",
     "output_type": "stream",
     "text": [
      "Предсказанная ссылка: https://gb.ru/geek_university/developer/programmer/1c-developer\n"
     ]
    }
   ],
   "source": [
    "predicted_url = predict_url(description)\n",
    "print(f'Предсказанная ссылка: {predicted_url}')"
   ],
   "metadata": {
    "collapsed": false,
    "ExecuteTime": {
     "end_time": "2024-04-27T22:21:32.456071Z",
     "start_time": "2024-04-27T22:21:32.411434Z"
    }
   },
   "id": "a22628d2aea2362e",
   "execution_count": 21
  },
  {
   "cell_type": "code",
   "outputs": [],
   "source": [],
   "metadata": {
    "collapsed": false
   },
   "id": "2d32621e5aa27800"
  }
 ],
 "metadata": {
  "kernelspec": {
   "display_name": "Python 3",
   "language": "python",
   "name": "python3"
  },
  "language_info": {
   "codemirror_mode": {
    "name": "ipython",
    "version": 2
   },
   "file_extension": ".py",
   "mimetype": "text/x-python",
   "name": "python",
   "nbconvert_exporter": "python",
   "pygments_lexer": "ipython2",
   "version": "2.7.6"
  }
 },
 "nbformat": 4,
 "nbformat_minor": 5
}
